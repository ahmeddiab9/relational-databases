{
 "cells": [
  {
   "cell_type": "markdown",
   "id": "857e8662",
   "metadata": {},
   "source": [
    "**[CRUD Operations](https://en.wikipedia.org/wiki/Create,_read,_update_and_delete)**"
   ]
  },
  {
   "cell_type": "markdown",
   "id": "8cbff38e",
   "metadata": {},
   "source": [
    "## Using the _sakila_ Database"
   ]
  },
  {
   "cell_type": "markdown",
   "id": "83d78f13",
   "metadata": {},
   "source": [
    "#Check existing databases  \n",
    "**`mysql> SHOW DATABASES;`**"
   ]
  },
  {
   "cell_type": "markdown",
   "id": "e309d718",
   "metadata": {},
   "source": [
    "#Change context  \n",
    "**`mysql> USE sakila;`**"
   ]
  },
  {
   "cell_type": "markdown",
   "id": "32c89f8c",
   "metadata": {},
   "source": [
    "#Check the current active  \n",
    "**`mysql> SELECT DATABASE();`**"
   ]
  },
  {
   "cell_type": "markdown",
   "id": "d982a801",
   "metadata": {},
   "source": [
    "#Explore existing tables in the active database  \n",
    "**`mysql> SHOW TABLES;`**"
   ]
  },
  {
   "cell_type": "markdown",
   "id": "791e5d1e",
   "metadata": {},
   "source": [
    "#Show table schema  \n",
    "**`mysql> SHOW COLUMNS FROM actor;`**  \n",
    "**`mysql> DESCRIBE actor;`**"
   ]
  },
  {
   "cell_type": "markdown",
   "id": "8baf79a9",
   "metadata": {},
   "source": [
    "## Data Manipulation Language (DML)"
   ]
  },
  {
   "cell_type": "markdown",
   "id": "344fd5e3",
   "metadata": {},
   "source": [
    "### SELECT Statement"
   ]
  },
  {
   "cell_type": "markdown",
   "id": "b07c3f51",
   "metadata": {},
   "source": [
    "`mysql> SELECT 'Hello World!';`"
   ]
  },
  {
   "cell_type": "markdown",
   "id": "ad0580ea",
   "metadata": {},
   "source": [
    "`mysql> SELECT (2+2)*3;`"
   ]
  },
  {
   "cell_type": "raw",
   "id": "3d0bcafc",
   "metadata": {},
   "source": [
    "SELECT <column list> FROM <table name>;"
   ]
  },
  {
   "cell_type": "markdown",
   "id": "d23dc8af",
   "metadata": {},
   "source": [
    "`mysql> SELECT * FROM language;`"
   ]
  },
  {
   "cell_type": "markdown",
   "id": "f3c04fc1",
   "metadata": {},
   "source": [
    "`mysql> SELECT * FROM sakila.language;`"
   ]
  },
  {
   "cell_type": "markdown",
   "id": "4bfcfab9",
   "metadata": {},
   "source": [
    "### WHERE Clause"
   ]
  },
  {
   "cell_type": "markdown",
   "id": "088cb176",
   "metadata": {},
   "source": [
    "`mysql> SELECT * FROM sakila.language WHERE name = 'English';`"
   ]
  },
  {
   "cell_type": "markdown",
   "id": "0af0745d",
   "metadata": {},
   "source": [
    "`mysql> SELECT first_name FROM actor WHERE actor_id = 4;`"
   ]
  },
  {
   "cell_type": "markdown",
   "id": "9c8c711a",
   "metadata": {},
   "source": [
    "`mysql> SELECT city FROM city WHERE city_id < 5;`"
   ]
  },
  {
   "cell_type": "raw",
   "id": "570435b1",
   "metadata": {},
   "source": [
    "For numbers, the frequently used operators are equal (=), greater than (>), less than (<), less than or equal (<=), greater than or equal (>=), and not equal (<> or !=)."
   ]
  },
  {
   "cell_type": "markdown",
   "id": "f6e5f0ef",
   "metadata": {},
   "source": [
    "`mysql> SELECT language_id, name FROM sakila.language`  \n",
    "    `-> WHERE language_id <> 2;`  \n",
    "\n",
    "#Similar to  \n",
    "\n",
    "`mysql> SELECT language_id, name FROM sakila.language`  \n",
    "    `-> WHERE NOT (language_id = 2);`"
   ]
  },
  {
   "cell_type": "markdown",
   "id": "ff1437ea",
   "metadata": {},
   "source": [
    "#Not case-sensitive  \n",
    "`mysql> SELECT first_name FROM actor WHERE first_name < 'B';`  \n",
    "`mysql> SELECT first_name FROM actor WHERE first_name < 'b';`"
   ]
  },
  {
   "cell_type": "markdown",
   "id": "827c64c4",
   "metadata": {},
   "source": [
    "#Wild card %  \n",
    "`mysql> SELECT title FROM film WHERE title LIKE '%family%';`"
   ]
  },
  {
   "cell_type": "markdown",
   "id": "f6ffaaec",
   "metadata": {},
   "source": [
    "`mysql> SELECT title FROM film_list WHERE category LIKE 'Sci-Fi'`  \n",
    "    `-> AND rating LIKE 'PG';`"
   ]
  },
  {
   "cell_type": "markdown",
   "id": "7c3f5241",
   "metadata": {},
   "source": [
    "`mysql> SELECT title FROM film_list WHERE (category like 'Sci-Fi'`  \n",
    "    `-> OR category LIKE 'Family') AND rating LIKE 'PG';`"
   ]
  },
  {
   "cell_type": "raw",
   "id": "54dda917",
   "metadata": {},
   "source": [
    "INTERVAL\n",
    "BINARY, COLLATE\n",
    "!\n",
    "- (unary minus), ~ (unary bit inversion)\n",
    "^\n",
    "*, /, DIV, %, MOD\n",
    "-,+\n",
    "<<, >>\n",
    "&\n",
    "\\|\n",
    "= (comparison), <=>, >=, >, <=, <, <>, !=, IS, LIKE, REGEXP, IN, MEMBER OF\n",
    "BETWEEN, CASE, WHEN, THEN, ELSE\n",
    "NOT\n",
    "AND, &&\n",
    "XOR\n",
    "OR, \\|\\|\n",
    "= (assignment), :="
   ]
  },
  {
   "cell_type": "markdown",
   "id": "bfc47038",
   "metadata": {},
   "source": [
    "`mysql> SELECT title`  \n",
    "   `-> FROM film_list`  \n",
    "    `-> WHERE price BETWEEN 2 AND 4`  \n",
    "    `-> AND (category LIKE 'Documentary' OR category LIKE 'Horror')`  \n",
    "    `-> AND actors LIKE '%BOB%';`"
   ]
  },
  {
   "cell_type": "markdown",
   "id": "b828c32e",
   "metadata": {},
   "source": [
    "### ORDER BY Clause"
   ]
  },
  {
   "cell_type": "markdown",
   "id": "57a85bc5",
   "metadata": {},
   "source": [
    "`mysql> SELECT name FROM customer_list`  \n",
    "    `-> ORDER BY name`  \n",
    "    `-> LIMIT 10;` "
   ]
  },
  {
   "cell_type": "markdown",
   "id": "542b9c87",
   "metadata": {},
   "source": [
    "`mysql> SELECT address, district FROM address`  \n",
    "    `-> ORDER BY district, address;`"
   ]
  },
  {
   "cell_type": "markdown",
   "id": "9ec3b579",
   "metadata": {},
   "source": [
    "`mysql> SELECT id, name FROM customer_list`  \n",
    "    `-> ORDER BY id LIMIT 10 OFFSET 5;`"
   ]
  },
  {
   "cell_type": "markdown",
   "id": "2fd53a29",
   "metadata": {},
   "source": [
    "## Joining Two Tables"
   ]
  },
  {
   "cell_type": "markdown",
   "id": "fc2128eb",
   "metadata": {},
   "source": [
    "`LEFT JOIN, RIGHT JOIN,, INNER JOIN`"
   ]
  },
  {
   "cell_type": "markdown",
   "id": "07b23e12",
   "metadata": {},
   "source": [
    "`mysql> SELECT city, country FROM city INNER JOIN country`  \n",
    "    `-> ON city.country_id = country.country_id`  \n",
    "    `-> WHERE country.country_id < 5`  \n",
    "    `-> ORDER BY country, city;`  \n"
   ]
  },
  {
   "cell_type": "markdown",
   "id": "e63e4876",
   "metadata": {},
   "source": [
    "#Equals"
   ]
  },
  {
   "cell_type": "markdown",
   "id": "5e34cb6b",
   "metadata": {},
   "source": [
    "`mysql> SELECT city, country FROM city INNER JOIN country`  \n",
    "    `-> using (country_id)`**  \n",
    "    `-> WHERE country.country_id < 5`  \n",
    "    `-> ORDER BY country, city;`  \n"
   ]
  },
  {
   "cell_type": "markdown",
   "id": "48776640",
   "metadata": {},
   "source": [
    "## The INSERT Statement"
   ]
  },
  {
   "cell_type": "markdown",
   "id": "19f4914c",
   "metadata": {},
   "source": [
    "`mysql> SHOW COLUMNS FROM language;`"
   ]
  },
  {
   "cell_type": "markdown",
   "id": "aad2cabf",
   "metadata": {},
   "source": [
    "`mysql> INSERT INTO language VALUES (NULL, 'Portuguese', NOW());`"
   ]
  },
  {
   "cell_type": "markdown",
   "id": "9b6b54b5",
   "metadata": {},
   "source": [
    "`mysql> SELECT * FROM language;`"
   ]
  },
  {
   "cell_type": "markdown",
   "id": "6407bb88",
   "metadata": {},
   "source": [
    "`mysql> SELECT MAX(language_id) FROM language;`"
   ]
  },
  {
   "cell_type": "markdown",
   "id": "07c7f06a",
   "metadata": {},
   "source": [
    "`mysql> INSERT INTO language VALUES (8, 'Russian', '2020-09-26 10:35:00');`"
   ]
  },
  {
   "cell_type": "markdown",
   "id": "3a436a60",
   "metadata": {},
   "source": [
    "`mysql> INSERT IGNORE INTO language VALUES (8, 'Arabic', '2020-09-26 10:35:00');`"
   ]
  },
  {
   "cell_type": "markdown",
   "id": "718c1cd8",
   "metadata": {},
   "source": [
    "`mysql> INSERT INTO language VALUES (NULL, 'Spanish', NOW()),`  \n",
    "    `-> (NULL, 'Hebrew', NOW());`"
   ]
  },
  {
   "cell_type": "markdown",
   "id": "17fe8f3a",
   "metadata": {},
   "source": [
    "#Alternative Syntax"
   ]
  },
  {
   "cell_type": "markdown",
   "id": "28e02497",
   "metadata": {},
   "source": [
    "`mysql> INSERT INTO actor (actor_id, first_name, last_name, last_update)`  \n",
    "    `-> VALUES (NULL, 'Vinicius', 'Grippa', NOW());`"
   ]
  },
  {
   "cell_type": "markdown",
   "id": "9a6cc8e6",
   "metadata": {},
   "source": [
    "`mysql> INSERT INTO city (city,country_id) VALUES`  \n",
    "    `-> ('Sao Carlos',19),`  \n",
    "    `-> ('Araraquara',19),`  \n",
    "    `-> ('Ribeirao Preto',19);`"
   ]
  },
  {
   "cell_type": "markdown",
   "id": "92e6665f",
   "metadata": {},
   "source": [
    "`mysql> INSERT INTO country VALUES (NULL, 'Uruguay', DEFAULT);`"
   ]
  },
  {
   "cell_type": "markdown",
   "id": "a3b7ef04",
   "metadata": {},
   "source": [
    "`mysql> INSERT INTO country SET country_id=NULL,`  \n",
    "    `-> country='Bahamas', last_update=NOW();`"
   ]
  },
  {
   "cell_type": "markdown",
   "id": "a9dd810c",
   "metadata": {},
   "source": [
    "## DELETE"
   ]
  },
  {
   "cell_type": "markdown",
   "id": "57a659a4",
   "metadata": {},
   "source": [
    "`mysql> DELETE FROM rental;`"
   ]
  },
  {
   "cell_type": "markdown",
   "id": "fbb477d5",
   "metadata": {},
   "source": [
    "`mysql> DELETE FROM language;` -- Referential Error"
   ]
  },
  {
   "cell_type": "markdown",
   "id": "12824b5e",
   "metadata": {},
   "source": [
    "`mysql> DELETE FROM rental WHERE rental_id < 10;`"
   ]
  },
  {
   "cell_type": "markdown",
   "id": "ea9d8762",
   "metadata": {},
   "source": [
    "`mysql> DELETE FROM payment ORDER BY customer_id LIMIT 10000;`"
   ]
  },
  {
   "cell_type": "markdown",
   "id": "2cae010d",
   "metadata": {},
   "source": [
    "`mysql> TRUNCATE TABLE payment;`"
   ]
  },
  {
   "cell_type": "markdown",
   "id": "5a865776",
   "metadata": {},
   "source": [
    "## UPDATE"
   ]
  },
  {
   "cell_type": "markdown",
   "id": "cf1d854b",
   "metadata": {},
   "source": [
    "`mysql> UPDATE payment SET amount=amount*1.1;`"
   ]
  },
  {
   "cell_type": "markdown",
   "id": "5132bcfc",
   "metadata": {},
   "source": [
    "`mysql> UPDATE payment SET last_update='2021-02-28 17:53:00';`"
   ]
  },
  {
   "cell_type": "markdown",
   "id": "db50aad8",
   "metadata": {},
   "source": [
    "`mysql> UPDATE actor SET last_name= UPPER('cruz')`  \n",
    "    `-> WHERE first_name LIKE 'PENELOPE'`  \n",
    "    `-> AND last_name LIKE 'GUINESS';`"
   ]
  },
  {
   "cell_type": "markdown",
   "id": "73e41d53",
   "metadata": {},
   "source": [
    "## SHOW and mysqlshow"
   ]
  },
  {
   "cell_type": "markdown",
   "id": "3d0bf267",
   "metadata": {},
   "source": [
    "`mysql> SHOW DATABASES;`"
   ]
  },
  {
   "cell_type": "markdown",
   "id": "e1f71527",
   "metadata": {},
   "source": [
    "`$ mysqlshow -uroot -pP@ssw0rd -h 127.0.0.1 -P 3306`"
   ]
  },
  {
   "cell_type": "markdown",
   "id": "65597489",
   "metadata": {},
   "source": [
    "`mysql> SHOW DATABASES LIKE 's%';`"
   ]
  },
  {
   "cell_type": "markdown",
   "id": "2bf18236",
   "metadata": {},
   "source": [
    "`mysql> SHOW CREATE DATABASE sakila;`"
   ]
  },
  {
   "cell_type": "markdown",
   "id": "a4a0b80c",
   "metadata": {},
   "source": [
    "`mysql> SHOW TABLES FROM sakila;`"
   ]
  },
  {
   "cell_type": "markdown",
   "id": "019d7bfe",
   "metadata": {},
   "source": [
    "`$ mysqlshow -uroot -pP@ssw0rd -h 127.0.0.1 -P 3306 sakila`"
   ]
  },
  {
   "cell_type": "markdown",
   "id": "82ee3ba7",
   "metadata": {},
   "source": [
    "`mysql> SHOW COLUMNS FROM country;`"
   ]
  },
  {
   "cell_type": "markdown",
   "id": "4aca97fc",
   "metadata": {},
   "source": [
    "`$ mysqlshow -uroot -pP@ssw0rd -h 127.0.0.1 -P 3306 sakila country`"
   ]
  },
  {
   "cell_type": "markdown",
   "id": "43c034b1",
   "metadata": {},
   "source": []
  },
  {
   "cell_type": "markdown",
   "id": "1aab452a",
   "metadata": {},
   "source": []
  },
  {
   "cell_type": "markdown",
   "id": "64dc251d",
   "metadata": {},
   "source": []
  },
  {
   "cell_type": "markdown",
   "id": "882c915a",
   "metadata": {},
   "source": []
  },
  {
   "cell_type": "markdown",
   "id": "b9a37700",
   "metadata": {},
   "source": []
  },
  {
   "cell_type": "markdown",
   "id": "e26be8dd",
   "metadata": {},
   "source": []
  }
 ],
 "metadata": {
  "kernelspec": {
   "display_name": "Python 3 (ipykernel)",
   "language": "python",
   "name": "python3"
  },
  "language_info": {
   "codemirror_mode": {
    "name": "ipython",
    "version": 3
   },
   "file_extension": ".py",
   "mimetype": "text/x-python",
   "name": "python",
   "nbconvert_exporter": "python",
   "pygments_lexer": "ipython3",
   "version": "3.10.4"
  }
 },
 "nbformat": 4,
 "nbformat_minor": 5
}
